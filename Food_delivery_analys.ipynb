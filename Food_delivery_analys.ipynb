{
  "nbformat": 4,
  "nbformat_minor": 0,
  "metadata": {
    "colab": {
      "name": "Food delivery analys.ipynb",
      "provenance": [],
      "collapsed_sections": [],
      "authorship_tag": "ABX9TyO9BHTc2PC+2SBLcqbyZIW0",
      "include_colab_link": true
    },
    "kernelspec": {
      "name": "python3",
      "display_name": "Python 3"
    },
    "language_info": {
      "name": "python"
    }
  },
  "cells": [
    {
      "cell_type": "markdown",
      "metadata": {
        "id": "view-in-github",
        "colab_type": "text"
      },
      "source": [
        "<a href=\"https://colab.research.google.com/github/Izmahikmah/food_delivery_analys/blob/main/Food_delivery_analys.ipynb\" target=\"_parent\"><img src=\"https://colab.research.google.com/assets/colab-badge.svg\" alt=\"Open In Colab\"/></a>"
      ]
    },
    {
      "cell_type": "code",
      "metadata": {
        "id": "pst-Q1DvARJ9"
      },
      "source": [
        "import matplotlib.pyplot as plt\n",
        "import numpy as np\n",
        "import pandas as pd\n",
        "import seaborn as sns\n",
        "import statistics"
      ],
      "execution_count": 31,
      "outputs": []
    },
    {
      "cell_type": "code",
      "metadata": {
        "colab": {
          "base_uri": "https://localhost:8080/"
        },
        "id": "uWGhj8CyB-Ks",
        "outputId": "516491b6-6ca7-462b-d068-175b0c02dc4c"
      },
      "source": [
        "from google.colab import drive\n",
        "drive.mount('/content/drive')"
      ],
      "execution_count": null,
      "outputs": [
        {
          "output_type": "stream",
          "name": "stdout",
          "text": [
            "Mounted at /content/drive\n"
          ]
        }
      ]
    },
    {
      "cell_type": "code",
      "metadata": {
        "colab": {
          "base_uri": "https://localhost:8080/",
          "height": 309
        },
        "id": "3StCNZ4CCgbP",
        "outputId": "ccd352e8-4751-4da4-aadd-d20dc4c6b4a7"
      },
      "source": [
        "path = '/content/drive/MyDrive/Data Analyst/food_delivery_datasets.csv'\n",
        "food_delivery_datasets = pd.read_csv(path)\n",
        "\n",
        "food_delivery_datasets.head()"
      ],
      "execution_count": null,
      "outputs": [
        {
          "output_type": "execute_result",
          "data": {
            "text/html": [
              "<div>\n",
              "<style scoped>\n",
              "    .dataframe tbody tr th:only-of-type {\n",
              "        vertical-align: middle;\n",
              "    }\n",
              "\n",
              "    .dataframe tbody tr th {\n",
              "        vertical-align: top;\n",
              "    }\n",
              "\n",
              "    .dataframe thead th {\n",
              "        text-align: right;\n",
              "    }\n",
              "</style>\n",
              "<table border=\"1\" class=\"dataframe\">\n",
              "  <thead>\n",
              "    <tr style=\"text-align: right;\">\n",
              "      <th></th>\n",
              "      <th>order_id</th>\n",
              "      <th>voucher_amount</th>\n",
              "      <th>date_time</th>\n",
              "      <th>eta_seconds</th>\n",
              "      <th>food_price</th>\n",
              "      <th>cust_id</th>\n",
              "      <th>rating</th>\n",
              "      <th>delivery_fee</th>\n",
              "      <th>resto_id</th>\n",
              "      <th>status</th>\n",
              "      <th>random_id</th>\n",
              "    </tr>\n",
              "  </thead>\n",
              "  <tbody>\n",
              "    <tr>\n",
              "      <th>0</th>\n",
              "      <td>FOOD-10455</td>\n",
              "      <td>0</td>\n",
              "      <td>2018-08-12T20:35:08.001006</td>\n",
              "      <td>1800</td>\n",
              "      <td>18900</td>\n",
              "      <td>1089034</td>\n",
              "      <td>5.0</td>\n",
              "      <td>4000</td>\n",
              "      <td>742638033</td>\n",
              "      <td>Completed</td>\n",
              "      <td>0.511149</td>\n",
              "    </tr>\n",
              "    <tr>\n",
              "      <th>1</th>\n",
              "      <td>FOOD-10985</td>\n",
              "      <td>0</td>\n",
              "      <td>2018-09-23T17:44:12.243273</td>\n",
              "      <td>2173</td>\n",
              "      <td>149000</td>\n",
              "      <td>180146</td>\n",
              "      <td>5.0</td>\n",
              "      <td>11000</td>\n",
              "      <td>742767245</td>\n",
              "      <td>Completed</td>\n",
              "      <td>0.832936</td>\n",
              "    </tr>\n",
              "    <tr>\n",
              "      <th>2</th>\n",
              "      <td>FOOD-10911</td>\n",
              "      <td>0</td>\n",
              "      <td>2018-09-19T18:08:09.387991</td>\n",
              "      <td>1418</td>\n",
              "      <td>43800</td>\n",
              "      <td>366528</td>\n",
              "      <td>NaN</td>\n",
              "      <td>9000</td>\n",
              "      <td>742618303</td>\n",
              "      <td>Completed</td>\n",
              "      <td>0.828026</td>\n",
              "    </tr>\n",
              "    <tr>\n",
              "      <th>3</th>\n",
              "      <td>FOOD-10932</td>\n",
              "      <td>0</td>\n",
              "      <td>2018-09-21T01:24:35.272499</td>\n",
              "      <td>1903</td>\n",
              "      <td>39900</td>\n",
              "      <td>511038</td>\n",
              "      <td>5.0</td>\n",
              "      <td>14000</td>\n",
              "      <td>742541172</td>\n",
              "      <td>Completed</td>\n",
              "      <td>0.239377</td>\n",
              "    </tr>\n",
              "    <tr>\n",
              "      <th>4</th>\n",
              "      <td>FOOD-10961</td>\n",
              "      <td>0</td>\n",
              "      <td>2018-09-22T17:57:45.523161</td>\n",
              "      <td>1716</td>\n",
              "      <td>77700</td>\n",
              "      <td>1220358</td>\n",
              "      <td>NaN</td>\n",
              "      <td>4000</td>\n",
              "      <td>742604875</td>\n",
              "      <td>Completed</td>\n",
              "      <td>0.995587</td>\n",
              "    </tr>\n",
              "  </tbody>\n",
              "</table>\n",
              "</div>"
            ],
            "text/plain": [
              "     order_id  voucher_amount  ...     status  random_id\n",
              "0  FOOD-10455               0  ...  Completed   0.511149\n",
              "1  FOOD-10985               0  ...  Completed   0.832936\n",
              "2  FOOD-10911               0  ...  Completed   0.828026\n",
              "3  FOOD-10932               0  ...  Completed   0.239377\n",
              "4  FOOD-10961               0  ...  Completed   0.995587\n",
              "\n",
              "[5 rows x 11 columns]"
            ]
          },
          "metadata": {},
          "execution_count": 3
        }
      ]
    },
    {
      "cell_type": "code",
      "metadata": {
        "colab": {
          "base_uri": "https://localhost:8080/",
          "height": 297
        },
        "id": "JafKRpV6C0xK",
        "outputId": "5a5b0939-acea-42d2-c281-b66da56c5f67"
      },
      "source": [
        "food_delivery_datasets.describe()"
      ],
      "execution_count": null,
      "outputs": [
        {
          "output_type": "execute_result",
          "data": {
            "text/html": [
              "<div>\n",
              "<style scoped>\n",
              "    .dataframe tbody tr th:only-of-type {\n",
              "        vertical-align: middle;\n",
              "    }\n",
              "\n",
              "    .dataframe tbody tr th {\n",
              "        vertical-align: top;\n",
              "    }\n",
              "\n",
              "    .dataframe thead th {\n",
              "        text-align: right;\n",
              "    }\n",
              "</style>\n",
              "<table border=\"1\" class=\"dataframe\">\n",
              "  <thead>\n",
              "    <tr style=\"text-align: right;\">\n",
              "      <th></th>\n",
              "      <th>voucher_amount</th>\n",
              "      <th>eta_seconds</th>\n",
              "      <th>food_price</th>\n",
              "      <th>cust_id</th>\n",
              "      <th>rating</th>\n",
              "      <th>delivery_fee</th>\n",
              "      <th>resto_id</th>\n",
              "      <th>random_id</th>\n",
              "    </tr>\n",
              "  </thead>\n",
              "  <tbody>\n",
              "    <tr>\n",
              "      <th>count</th>\n",
              "      <td>1076.000000</td>\n",
              "      <td>1076.000000</td>\n",
              "      <td>1076.000000</td>\n",
              "      <td>1.076000e+03</td>\n",
              "      <td>598.000000</td>\n",
              "      <td>1076.000000</td>\n",
              "      <td>1.076000e+03</td>\n",
              "      <td>1076.000000</td>\n",
              "    </tr>\n",
              "    <tr>\n",
              "      <th>mean</th>\n",
              "      <td>1053.903346</td>\n",
              "      <td>1632.289033</td>\n",
              "      <td>78041.821561</td>\n",
              "      <td>8.274251e+05</td>\n",
              "      <td>4.946488</td>\n",
              "      <td>9252.788104</td>\n",
              "      <td>7.275119e+08</td>\n",
              "      <td>0.498824</td>\n",
              "    </tr>\n",
              "    <tr>\n",
              "      <th>std</th>\n",
              "      <td>3127.726510</td>\n",
              "      <td>948.628732</td>\n",
              "      <td>58512.508208</td>\n",
              "      <td>4.380402e+05</td>\n",
              "      <td>0.295946</td>\n",
              "      <td>6723.595497</td>\n",
              "      <td>8.923529e+07</td>\n",
              "      <td>0.288533</td>\n",
              "    </tr>\n",
              "    <tr>\n",
              "      <th>min</th>\n",
              "      <td>0.000000</td>\n",
              "      <td>2.000000</td>\n",
              "      <td>12900.000000</td>\n",
              "      <td>2.289500e+04</td>\n",
              "      <td>1.000000</td>\n",
              "      <td>0.000000</td>\n",
              "      <td>2.000006e+08</td>\n",
              "      <td>0.001616</td>\n",
              "    </tr>\n",
              "    <tr>\n",
              "      <th>25%</th>\n",
              "      <td>0.000000</td>\n",
              "      <td>1074.750000</td>\n",
              "      <td>38200.000000</td>\n",
              "      <td>3.667210e+05</td>\n",
              "      <td>5.000000</td>\n",
              "      <td>4000.000000</td>\n",
              "      <td>7.425411e+08</td>\n",
              "      <td>0.246024</td>\n",
              "    </tr>\n",
              "    <tr>\n",
              "      <th>50%</th>\n",
              "      <td>0.000000</td>\n",
              "      <td>1605.500000</td>\n",
              "      <td>59200.000000</td>\n",
              "      <td>8.547090e+05</td>\n",
              "      <td>5.000000</td>\n",
              "      <td>9000.000000</td>\n",
              "      <td>7.425990e+08</td>\n",
              "      <td>0.490014</td>\n",
              "    </tr>\n",
              "    <tr>\n",
              "      <th>75%</th>\n",
              "      <td>0.000000</td>\n",
              "      <td>2151.000000</td>\n",
              "      <td>101100.000000</td>\n",
              "      <td>1.230166e+06</td>\n",
              "      <td>5.000000</td>\n",
              "      <td>12000.000000</td>\n",
              "      <td>7.426671e+08</td>\n",
              "      <td>0.757871</td>\n",
              "    </tr>\n",
              "    <tr>\n",
              "      <th>max</th>\n",
              "      <td>25000.000000</td>\n",
              "      <td>6082.000000</td>\n",
              "      <td>448500.000000</td>\n",
              "      <td>1.548571e+06</td>\n",
              "      <td>5.000000</td>\n",
              "      <td>44000.000000</td>\n",
              "      <td>7.428147e+08</td>\n",
              "      <td>0.999124</td>\n",
              "    </tr>\n",
              "  </tbody>\n",
              "</table>\n",
              "</div>"
            ],
            "text/plain": [
              "       voucher_amount  eta_seconds  ...      resto_id    random_id\n",
              "count     1076.000000  1076.000000  ...  1.076000e+03  1076.000000\n",
              "mean      1053.903346  1632.289033  ...  7.275119e+08     0.498824\n",
              "std       3127.726510   948.628732  ...  8.923529e+07     0.288533\n",
              "min          0.000000     2.000000  ...  2.000006e+08     0.001616\n",
              "25%          0.000000  1074.750000  ...  7.425411e+08     0.246024\n",
              "50%          0.000000  1605.500000  ...  7.425990e+08     0.490014\n",
              "75%          0.000000  2151.000000  ...  7.426671e+08     0.757871\n",
              "max      25000.000000  6082.000000  ...  7.428147e+08     0.999124\n",
              "\n",
              "[8 rows x 8 columns]"
            ]
          },
          "metadata": {},
          "execution_count": 4
        }
      ]
    },
    {
      "cell_type": "code",
      "metadata": {
        "colab": {
          "base_uri": "https://localhost:8080/",
          "height": 173
        },
        "id": "5D5VtRLnYnhW",
        "outputId": "73a1c6be-6572-4ac0-aaf9-8f3aa8cdcccc"
      },
      "source": [
        "food_delivery_datasets.describe(exclude = np.number)"
      ],
      "execution_count": 48,
      "outputs": [
        {
          "output_type": "execute_result",
          "data": {
            "text/html": [
              "<div>\n",
              "<style scoped>\n",
              "    .dataframe tbody tr th:only-of-type {\n",
              "        vertical-align: middle;\n",
              "    }\n",
              "\n",
              "    .dataframe tbody tr th {\n",
              "        vertical-align: top;\n",
              "    }\n",
              "\n",
              "    .dataframe thead th {\n",
              "        text-align: right;\n",
              "    }\n",
              "</style>\n",
              "<table border=\"1\" class=\"dataframe\">\n",
              "  <thead>\n",
              "    <tr style=\"text-align: right;\">\n",
              "      <th></th>\n",
              "      <th>order_id</th>\n",
              "      <th>date_time</th>\n",
              "      <th>status</th>\n",
              "    </tr>\n",
              "  </thead>\n",
              "  <tbody>\n",
              "    <tr>\n",
              "      <th>count</th>\n",
              "      <td>1076</td>\n",
              "      <td>1076</td>\n",
              "      <td>1076</td>\n",
              "    </tr>\n",
              "    <tr>\n",
              "      <th>unique</th>\n",
              "      <td>1076</td>\n",
              "      <td>1076</td>\n",
              "      <td>2</td>\n",
              "    </tr>\n",
              "    <tr>\n",
              "      <th>top</th>\n",
              "      <td>FOOD-10989</td>\n",
              "      <td>2018-07-28T20:01:12.532727</td>\n",
              "      <td>Completed</td>\n",
              "    </tr>\n",
              "    <tr>\n",
              "      <th>freq</th>\n",
              "      <td>1</td>\n",
              "      <td>1</td>\n",
              "      <td>881</td>\n",
              "    </tr>\n",
              "  </tbody>\n",
              "</table>\n",
              "</div>"
            ],
            "text/plain": [
              "          order_id                   date_time     status\n",
              "count         1076                        1076       1076\n",
              "unique        1076                        1076          2\n",
              "top     FOOD-10989  2018-07-28T20:01:12.532727  Completed\n",
              "freq             1                           1        881"
            ]
          },
          "metadata": {},
          "execution_count": 48
        }
      ]
    },
    {
      "cell_type": "code",
      "metadata": {
        "colab": {
          "base_uri": "https://localhost:8080/",
          "height": 312
        },
        "id": "_e0puzMPDFM_",
        "outputId": "07a0317c-5387-4953-cc9b-50a557410054"
      },
      "source": [
        "sns.countplot(x='status',data=food_delivery_datasets)\n",
        "plt.title('distribusi status penjualan')"
      ],
      "execution_count": null,
      "outputs": [
        {
          "output_type": "execute_result",
          "data": {
            "text/plain": [
              "Text(0.5, 1.0, 'distribusi status penjualan')"
            ]
          },
          "metadata": {},
          "execution_count": 5
        },
        {
          "output_type": "display_data",
          "data": {
            "image/png": "[encoded data removed]",
            "text/plain": [
              "<Figure size 432x288 with 1 Axes>"
            ]
          },
          "metadata": {
            "needs_background": "light"
          }
        }
      ]
    },
    {
      "cell_type": "code",
      "metadata": {
        "id": "T77Sdxf9EUMe",
        "colab": {
          "base_uri": "https://localhost:8080/",
          "height": 313
        },
        "outputId": "a8a03352-52e7-4ef2-8234-a0d9cb8b056e"
      },
      "source": [
        "food_delivery_datasets.hist('delivery_fee',bins=30)\n",
        "plt.title('distribusi keuntungan')\n",
        "plt.xlabel('delivery_fee')"
      ],
      "execution_count": 11,
      "outputs": [
        {
          "output_type": "execute_result",
          "data": {
            "text/plain": [
              "Text(0.5, 0, 'delivery_fee')"
            ]
          },
          "metadata": {},
          "execution_count": 11
        },
        {
          "output_type": "display_data",
          "data": {
            "image/png": "[encoded data removed]",
            "text/plain": [
              "<Figure size 432x288 with 1 Axes>"
            ]
          },
          "metadata": {
            "needs_background": "light"
          }
        }
      ]
    },
    {
      "cell_type": "code",
      "metadata": {
        "colab": {
          "base_uri": "https://localhost:8080/",
          "height": 609
        },
        "id": "UcXggN4oVZWO",
        "outputId": "5df884c3-cf45-426d-dbf4-02a026850610"
      },
      "source": [
        "food_delivery_datasets.sort_values('voucher_amount',ascending=False)"
      ],
      "execution_count": 30,
      "outputs": [
        {
          "output_type": "execute_result",
          "data": {
            "text/html": [
              "<div>\n",
              "<style scoped>\n",
              "    .dataframe tbody tr th:only-of-type {\n",
              "        vertical-align: middle;\n",
              "    }\n",
              "\n",
              "    .dataframe tbody tr th {\n",
              "        vertical-align: top;\n",
              "    }\n",
              "\n",
              "    .dataframe thead th {\n",
              "        text-align: right;\n",
              "    }\n",
              "</style>\n",
              "<table border=\"1\" class=\"dataframe\">\n",
              "  <thead>\n",
              "    <tr style=\"text-align: right;\">\n",
              "      <th></th>\n",
              "      <th>order_id</th>\n",
              "      <th>voucher_amount</th>\n",
              "      <th>date_time</th>\n",
              "      <th>eta_seconds</th>\n",
              "      <th>food_price</th>\n",
              "      <th>cust_id</th>\n",
              "      <th>rating</th>\n",
              "      <th>delivery_fee</th>\n",
              "      <th>resto_id</th>\n",
              "      <th>status</th>\n",
              "      <th>random_id</th>\n",
              "    </tr>\n",
              "  </thead>\n",
              "  <tbody>\n",
              "    <tr>\n",
              "      <th>90</th>\n",
              "      <td>FOOD-11010</td>\n",
              "      <td>25000</td>\n",
              "      <td>2018-09-25T17:13:25.961065</td>\n",
              "      <td>627</td>\n",
              "      <td>106500</td>\n",
              "      <td>1081809</td>\n",
              "      <td>NaN</td>\n",
              "      <td>0</td>\n",
              "      <td>742527751</td>\n",
              "      <td>Cancelled</td>\n",
              "      <td>0.353890</td>\n",
              "    </tr>\n",
              "    <tr>\n",
              "      <th>151</th>\n",
              "      <td>FOOD-11011</td>\n",
              "      <td>25000</td>\n",
              "      <td>2018-09-25T17:24:33.355489</td>\n",
              "      <td>2890</td>\n",
              "      <td>110900</td>\n",
              "      <td>1081809</td>\n",
              "      <td>NaN</td>\n",
              "      <td>0</td>\n",
              "      <td>742527751</td>\n",
              "      <td>Completed</td>\n",
              "      <td>0.704929</td>\n",
              "    </tr>\n",
              "    <tr>\n",
              "      <th>408</th>\n",
              "      <td>FOOD-11072</td>\n",
              "      <td>25000</td>\n",
              "      <td>2018-09-30T19:06:10.486158</td>\n",
              "      <td>1973</td>\n",
              "      <td>91900</td>\n",
              "      <td>854144</td>\n",
              "      <td>NaN</td>\n",
              "      <td>0</td>\n",
              "      <td>742531812</td>\n",
              "      <td>Completed</td>\n",
              "      <td>0.817931</td>\n",
              "    </tr>\n",
              "    <tr>\n",
              "      <th>911</th>\n",
              "      <td>FOOD-10328</td>\n",
              "      <td>20000</td>\n",
              "      <td>2018-08-01T18:35:10.541389</td>\n",
              "      <td>1794</td>\n",
              "      <td>125100</td>\n",
              "      <td>1194303</td>\n",
              "      <td>5.0</td>\n",
              "      <td>0</td>\n",
              "      <td>742596783</td>\n",
              "      <td>Completed</td>\n",
              "      <td>0.465812</td>\n",
              "    </tr>\n",
              "    <tr>\n",
              "      <th>840</th>\n",
              "      <td>FOOD-10755</td>\n",
              "      <td>20000</td>\n",
              "      <td>2018-09-09T19:29:49.671143</td>\n",
              "      <td>2349</td>\n",
              "      <td>89200</td>\n",
              "      <td>1194303</td>\n",
              "      <td>5.0</td>\n",
              "      <td>0</td>\n",
              "      <td>742596783</td>\n",
              "      <td>Completed</td>\n",
              "      <td>0.681013</td>\n",
              "    </tr>\n",
              "    <tr>\n",
              "      <th>...</th>\n",
              "      <td>...</td>\n",
              "      <td>...</td>\n",
              "      <td>...</td>\n",
              "      <td>...</td>\n",
              "      <td>...</td>\n",
              "      <td>...</td>\n",
              "      <td>...</td>\n",
              "      <td>...</td>\n",
              "      <td>...</td>\n",
              "      <td>...</td>\n",
              "      <td>...</td>\n",
              "    </tr>\n",
              "    <tr>\n",
              "      <th>392</th>\n",
              "      <td>FOOD-10303</td>\n",
              "      <td>0</td>\n",
              "      <td>2018-07-30T14:25:46.147854</td>\n",
              "      <td>1455</td>\n",
              "      <td>55900</td>\n",
              "      <td>630004</td>\n",
              "      <td>5.0</td>\n",
              "      <td>4000</td>\n",
              "      <td>742624928</td>\n",
              "      <td>Completed</td>\n",
              "      <td>0.068054</td>\n",
              "    </tr>\n",
              "    <tr>\n",
              "      <th>393</th>\n",
              "      <td>FOOD-11051</td>\n",
              "      <td>0</td>\n",
              "      <td>2018-09-29T12:59:31.195460</td>\n",
              "      <td>2012</td>\n",
              "      <td>51500</td>\n",
              "      <td>906222</td>\n",
              "      <td>NaN</td>\n",
              "      <td>11000</td>\n",
              "      <td>742539016</td>\n",
              "      <td>Completed</td>\n",
              "      <td>0.304826</td>\n",
              "    </tr>\n",
              "    <tr>\n",
              "      <th>394</th>\n",
              "      <td>FOOD-10988</td>\n",
              "      <td>0</td>\n",
              "      <td>2018-09-23T19:24:51.209169</td>\n",
              "      <td>1411</td>\n",
              "      <td>63000</td>\n",
              "      <td>1194303</td>\n",
              "      <td>5.0</td>\n",
              "      <td>5000</td>\n",
              "      <td>742531201</td>\n",
              "      <td>Completed</td>\n",
              "      <td>0.417212</td>\n",
              "    </tr>\n",
              "    <tr>\n",
              "      <th>395</th>\n",
              "      <td>FOOD-11039</td>\n",
              "      <td>0</td>\n",
              "      <td>2018-09-28T11:40:36.225244</td>\n",
              "      <td>114</td>\n",
              "      <td>32900</td>\n",
              "      <td>960065</td>\n",
              "      <td>NaN</td>\n",
              "      <td>9000</td>\n",
              "      <td>742641741</td>\n",
              "      <td>Cancelled</td>\n",
              "      <td>0.762469</td>\n",
              "    </tr>\n",
              "    <tr>\n",
              "      <th>1075</th>\n",
              "      <td>FOOD-10770</td>\n",
              "      <td>0</td>\n",
              "      <td>2018-09-11T14:18:19.494258</td>\n",
              "      <td>1547</td>\n",
              "      <td>43000</td>\n",
              "      <td>1010922</td>\n",
              "      <td>5.0</td>\n",
              "      <td>9000</td>\n",
              "      <td>742594499</td>\n",
              "      <td>Completed</td>\n",
              "      <td>0.358051</td>\n",
              "    </tr>\n",
              "  </tbody>\n",
              "</table>\n",
              "<p>1076 rows × 11 columns</p>\n",
              "</div>"
            ],
            "text/plain": [
              "        order_id  voucher_amount  ...     status  random_id\n",
              "90    FOOD-11010           25000  ...  Cancelled   0.353890\n",
              "151   FOOD-11011           25000  ...  Completed   0.704929\n",
              "408   FOOD-11072           25000  ...  Completed   0.817931\n",
              "911   FOOD-10328           20000  ...  Completed   0.465812\n",
              "840   FOOD-10755           20000  ...  Completed   0.681013\n",
              "...          ...             ...  ...        ...        ...\n",
              "392   FOOD-10303               0  ...  Completed   0.068054\n",
              "393   FOOD-11051               0  ...  Completed   0.304826\n",
              "394   FOOD-10988               0  ...  Completed   0.417212\n",
              "395   FOOD-11039               0  ...  Cancelled   0.762469\n",
              "1075  FOOD-10770               0  ...  Completed   0.358051\n",
              "\n",
              "[1076 rows x 11 columns]"
            ]
          },
          "metadata": {},
          "execution_count": 30
        }
      ]
    }
  ]
}